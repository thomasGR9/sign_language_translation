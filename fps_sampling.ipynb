{
 "cells": [
  {
   "cell_type": "code",
   "execution_count": 5,
   "metadata": {},
   "outputs": [],
   "source": [
    "import cv2\n",
    "import os"
   ]
  },
  {
   "cell_type": "code",
   "execution_count": 3,
   "metadata": {},
   "outputs": [],
   "source": [
    "def get_video_fps(video_path):\n",
    "    \"\"\"\n",
    "    Returns the frames per second (FPS) of a video file using OpenCV.\n",
    "    \n",
    "    Parameters:\n",
    "        video_path (str): Relative path to the video file\n",
    "        \n",
    "    Returns:\n",
    "        float: The frames per second of the video\n",
    "        \n",
    "    Raises:\n",
    "        ValueError: If the video file cannot be opened or is invalid\n",
    "    \"\"\"\n",
    "    try:\n",
    "        # Create a VideoCapture object\n",
    "        video = cv2.VideoCapture(video_path)\n",
    "        \n",
    "        # Check if video file was successfully opened\n",
    "        if not video.isOpened():\n",
    "            raise ValueError(f\"Error: Could not open video file at {video_path}\")\n",
    "        \n",
    "        # Get the frames per second property\n",
    "        # CV_CAP_PROP_FPS is the property identifier for FPS in OpenCV\n",
    "        fps = video.get(cv2.CAP_PROP_FPS)\n",
    "        \n",
    "        # Release the video capture object\n",
    "        video.release()\n",
    "        \n",
    "        # Some video files might return 0 for FPS, which indicates an error\n",
    "        if fps <= 0:\n",
    "            raise ValueError(f\"Error: Could not determine FPS for video at {video_path}\")\n",
    "            \n",
    "        return fps\n",
    "        \n",
    "    except Exception as e:\n",
    "        # Catch any other exceptions that might occur\n",
    "        raise ValueError(f\"Error processing video: {str(e)}\")"
   ]
  },
  {
   "cell_type": "code",
   "execution_count": 4,
   "metadata": {},
   "outputs": [
    {
     "name": "stdout",
     "output_type": "stream",
     "text": [
      "29.97002997002997\n"
     ]
    }
   ],
   "source": [
    "video_path = \"./youtube_DNViaspA8hM_1920x1080_h264.mp4\"\n",
    "fps = get_video_fps(video_path=video_path)\n",
    "print(fps)"
   ]
  },
  {
   "cell_type": "code",
   "execution_count": 6,
   "metadata": {},
   "outputs": [],
   "source": [
    "def resample_video_fps(video_path, desired_fps):\n",
    "    \"\"\"\n",
    "    Resamples a video to a desired frames per second (FPS) rate by uniformly\n",
    "    sampling frames from the original video.\n",
    "    \n",
    "    Parameters:\n",
    "        video_path (str): Relative path to the input video file\n",
    "        desired_fps (float): The desired FPS for the output video\n",
    "        \n",
    "    Returns:\n",
    "        str: Path to the resampled video\n",
    "        \n",
    "    Raises:\n",
    "        ValueError: If there's an issue processing the video\n",
    "    \"\"\"\n",
    "    try:\n",
    "        # Get the current FPS of the video using the previously defined function\n",
    "        current_fps = get_video_fps(video_path)\n",
    "        \n",
    "        # Create a VideoCapture object to read the input video\n",
    "        cap = cv2.VideoCapture(video_path)\n",
    "        \n",
    "        # Check if video file was successfully opened\n",
    "        if not cap.isOpened():\n",
    "            raise ValueError(f\"Error: Could not open video file at {video_path}\")\n",
    "        \n",
    "        # Get the video properties we need for processing\n",
    "        width = int(cap.get(cv2.CAP_PROP_FRAME_WIDTH))\n",
    "        height = int(cap.get(cv2.CAP_PROP_FRAME_HEIGHT))\n",
    "        total_frames = int(cap.get(cv2.CAP_PROP_FRAME_COUNT))\n",
    "        \n",
    "        # Calculate the total duration of the video in seconds\n",
    "        duration = total_frames / current_fps\n",
    "        \n",
    "        # Calculate how many frames will be in the output video\n",
    "        # based on the desired FPS and the original duration\n",
    "        output_total_frames = int(duration * desired_fps)\n",
    "        \n",
    "        # Generate the output video path in the same directory as the input\n",
    "        # with a suffix indicating the new FPS\n",
    "        video_dir = os.path.dirname(video_path)\n",
    "        video_filename = os.path.basename(video_path)\n",
    "        base_name, ext = os.path.splitext(video_filename)\n",
    "        output_path = os.path.join(video_dir, f\"{base_name}_fps{int(desired_fps)}{ext}\")\n",
    "        \n",
    "        # Create a VideoWriter object to write the output video\n",
    "        fourcc = cv2.VideoWriter_fourcc(*'mp4v')  # Codec for .mp4\n",
    "        out = cv2.VideoWriter(output_path, fourcc, desired_fps, (width, height))\n",
    "        \n",
    "        # For each frame in the output video, calculate and retrieve\n",
    "        # the corresponding frame from the input video\n",
    "        for i in range(output_total_frames):\n",
    "            # Calculate which frame to use from the original video\n",
    "            # using the formula: round(i*current_fps/desired_fps)\n",
    "            original_frame_idx = round(i * current_fps / desired_fps)\n",
    "            \n",
    "            # Ensure we don't go beyond the total frames in the original video\n",
    "            if original_frame_idx >= total_frames:\n",
    "                break\n",
    "                \n",
    "            # Set the video capture to the calculated frame position\n",
    "            cap.set(cv2.CAP_PROP_POS_FRAMES, original_frame_idx)\n",
    "            \n",
    "            # Read the frame from the input video\n",
    "            ret, frame = cap.read()\n",
    "            if not ret:\n",
    "                # If we can't read the frame, stop processing\n",
    "                break\n",
    "                \n",
    "            # Write the frame to the output video\n",
    "            out.write(frame)\n",
    "        \n",
    "        # Release the video capture and writer objects to free resources\n",
    "        cap.release()\n",
    "        out.release()\n",
    "        \n",
    "        # Return the path to the newly created video\n",
    "        return output_path\n",
    "        \n",
    "    except Exception as e:\n",
    "        # Catch any other exceptions that might occur\n",
    "        raise ValueError(f\"Error resampling video: {str(e)}\")"
   ]
  },
  {
   "cell_type": "code",
   "execution_count": 8,
   "metadata": {},
   "outputs": [],
   "source": [
    "desired_fps=10\n",
    "output_path = resample_video_fps(video_path=video_path, desired_fps=desired_fps)"
   ]
  },
  {
   "cell_type": "code",
   "execution_count": 9,
   "metadata": {},
   "outputs": [],
   "source": [
    "def count_frames(video_path):\n",
    "    \"\"\"\n",
    "    Counts the number of frames in a video file using OpenCV.\n",
    "    \n",
    "    Parameters:\n",
    "        video_path (str): Path to the video file\n",
    "        \n",
    "    Returns:\n",
    "        int: The number of frames in the video\n",
    "        \n",
    "    Raises:\n",
    "        ValueError: If the video file cannot be opened or is invalid\n",
    "    \"\"\"\n",
    "    try:\n",
    "        # Create a VideoCapture object\n",
    "        video = cv2.VideoCapture(video_path)\n",
    "        \n",
    "        # Check if video file was successfully opened\n",
    "        if not video.isOpened():\n",
    "            raise ValueError(f\"Error: Could not open video file at {video_path}\")\n",
    "        \n",
    "        # Method 1: Get frame count using the property\n",
    "        # This is fast but can be inaccurate for some video formats\n",
    "        frame_count_prop = int(video.get(cv2.CAP_PROP_FRAME_COUNT))\n",
    "        \n",
    "        # Method 2: Actually count frames (more accurate but slower)\n",
    "        # Uncomment this block for more accurate counting if needed\n",
    "        \"\"\"\n",
    "        frame_count_actual = 0\n",
    "        video.set(cv2.CAP_PROP_POS_FRAMES, 0)  # Reset to beginning\n",
    "        while True:\n",
    "            ret, _ = video.read()\n",
    "            if not ret:\n",
    "                break\n",
    "            frame_count_actual += 1\n",
    "        print(f\"Actual frame count: {frame_count_actual}\")\n",
    "        \"\"\"\n",
    "        \n",
    "        # Release the video capture object\n",
    "        video.release()\n",
    "        \n",
    "        return frame_count_prop\n",
    "        \n",
    "    except Exception as e:\n",
    "        # Catch any other exceptions that might occur\n",
    "        raise ValueError(f\"Error counting frames: {str(e)}\")"
   ]
  },
  {
   "cell_type": "code",
   "execution_count": 12,
   "metadata": {},
   "outputs": [
    {
     "name": "stdout",
     "output_type": "stream",
     "text": [
      "1955 652\n"
     ]
    }
   ],
   "source": [
    "frames_original = count_frames(video_path)\n",
    "frames_sampled = count_frames(output_path)\n",
    "print(frames_original, frames_sampled)"
   ]
  },
  {
   "cell_type": "code",
   "execution_count": 17,
   "metadata": {},
   "outputs": [
    {
     "name": "stdout",
     "output_type": "stream",
     "text": [
      "Made video on 12\n",
      "Made video on 14\n",
      "Made video on 16\n",
      "Made video on 18\n",
      "Made video on 20\n",
      "Made video on 22\n",
      "Made video on 24\n"
     ]
    }
   ],
   "source": [
    "for sample_fps in range(12, 26, 2):\n",
    "    output_path_1 = resample_video_fps(video_path=video_path, desired_fps=sample_fps)\n",
    "    print(f\"Made video on {sample_fps}\")\n"
   ]
  },
  {
   "cell_type": "code",
   "execution_count": null,
   "metadata": {},
   "outputs": [],
   "source": []
  }
 ],
 "metadata": {
  "kernelspec": {
   "display_name": "opencv-env",
   "language": "python",
   "name": "python3"
  },
  "language_info": {
   "codemirror_mode": {
    "name": "ipython",
    "version": 3
   },
   "file_extension": ".py",
   "mimetype": "text/x-python",
   "name": "python",
   "nbconvert_exporter": "python",
   "pygments_lexer": "ipython3",
   "version": "3.12.5"
  }
 },
 "nbformat": 4,
 "nbformat_minor": 2
}
